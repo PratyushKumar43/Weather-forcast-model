{
 "cells": [
  {
   "cell_type": "markdown",
   "id": "0b0dc9a7",
   "metadata": {},
   "source": [
    "# Weather Forecasting with Machine Learning\n",
    "\n",
    "In this notebook, we will explore weather forecasting using machine learning techniques. We'll analyze historical temperature data, perform exploratory data analysis, visualize patterns, and build a predictive model to forecast future temperatures.\n",
    "\n",
    "The project will cover:\n",
    "1. Data loading and preprocessing\n",
    "2. Exploratory data analysis and visualization\n",
    "3. Clustering analysis to identify temperature patterns\n",
    "4. Seasonal weather analysis\n",
    "5. Building a machine learning model for temperature forecasting\n",
    "6. Predicting temperatures for future months\n",
    "\n",
    "Let's begin by importing the necessary libraries and loading our dataset.\n"
   ]
  },
  {
   "cell_type": "code",
   "execution_count": null,
   "id": "69ecc3f4",
   "metadata": {},
   "outputs": [],
   "source": [
    "# Library Imports\n",
    "import numpy as np # For Linear Algebra\n",
    "import pandas as pd # To Work With Data\n",
    "# for visualizations\n",
    "import plotly.express as px\n",
    "import plotly.graph_objects as go\n",
    "from plotly.subplots import make_subplots\n",
    "from datetime import datetime # Time Series analysis.\n"
   ]
  },
  {
   "cell_type": "markdown",
   "id": "5832e888",
   "metadata": {},
   "source": [
    "## Data Loading and Preprocessing\n",
    "\n",
    "Now we'll load our weather dataset and perform initial preprocessing steps to prepare it for analysis.\n"
   ]
  },
  {
   "cell_type": "code",
   "execution_count": null,
   "id": "69d40115",
   "metadata": {},
   "outputs": [],
   "source": [
    "# Data Loading\n",
    "df = pd.read_csv(\"Weather.csv\")\n",
    "\n",
    "# View first 5 rows\n",
    "df.head() # This will show us top 5 rows of the dataset by default\n",
    "\n",
    "# Fix unnamed column issue\n",
    "df = pd.read_csv(\"Weather.csv\", index_col=0)\n"
   ]
  },
  {
   "cell_type": "markdown",
   "id": "1f3fd205",
   "metadata": {},
   "source": [
    "## Data Preprocessing\n",
    "\n",
    "Now we'll transform our data into a format suitable for time series analysis by melting the dataframe and creating date attributes.\n"
   ]
  },
  {
   "cell_type": "code",
   "execution_count": null,
   "id": "253f8a2c",
   "metadata": {},
   "outputs": [],
   "source": [
    "# Create date attribute for timeline analysis\n",
    "df1 = pd.melt(df, id_vars='YEAR', value_vars=df.columns[1:])\n",
    "df1.head()\n",
    "\n",
    "# Create Date column by combining year and month\n",
    "df1['Date'] = df1['variable'] + ' ' + df1['YEAR'].astype(str)\n",
    "df1.loc[:,'Date'] = df1['Date'].apply(lambda x : datetime.strptime(x, '%b %Y'))\n",
    "df1.head()\n",
    "\n",
    "# Rename columns for clarity\n",
    "df1.columns=['Year', 'Month', 'Temperature', 'Date']\n",
    "df1.sort_values(by='Date', inplace=True) ## To get the time series right\n"
   ]
  },
  {
   "cell_type": "markdown",
   "id": "4db43da9",
   "metadata": {},
   "source": [
    "## Exploratory Data Analysis and Visualization\n",
    "\n",
    "Let's visualize our temperature data to understand patterns and trends over time.\n"
   ]
  },
  {
   "cell_type": "code",
   "execution_count": null,
   "id": "7fa1172e",
   "metadata": {},
   "outputs": [],
   "source": [
    "# Temperature through time visualization\n",
    "fig = go.Figure(layout = go.Layout(yaxis=dict(range=[0, df1['Temperature'].max()])))\n",
    "fig.add_trace(go.Scatter(x=df1['Date'], y=df1['Temperature']))\n",
    "fig.update_layout(title='Temperature Throught Timeline:',\n",
    "                 xaxis_title='Time', yaxis_title='Temperature')\n",
    "fig.update_layout(xaxis=go.layout.XAxis(\n",
    "    rangeselector=dict(\n",
    "        buttons=list([dict(label=\"Whole View\", step=\"all\"),\n",
    "                     dict(count=1,label=\"One Year View\",step=\"year\")\n",
    "                     ])),\n",
    "    rangeslider=dict(visible=True),type=\"date\"))\n",
    "fig.show()\n"
   ]
  },
  {
   "cell_type": "code",
   "execution_count": null,
   "id": "bb4f3d7b",
   "metadata": {},
   "outputs": [],
   "source": [
    "# Monthly temperature patterns\n",
    "fig = px.box(df1, 'Month', 'Temperature')\n",
    "fig.update_layout(title='Warmest, Coldest and Median Monthly Temperature')\n",
    "fig.show()\n"
   ]
  },
  {
   "cell_type": "markdown",
   "id": "439a504a",
   "metadata": {},
   "source": [
    "## Clustering Analysis\n",
    "\n",
    "Next, we'll use K-means clustering to identify patterns in our temperature data. First, we'll determine the optimal number of clusters.\n"
   ]
  },
  {
   "cell_type": "code",
   "execution_count": null,
   "id": "ca7132eb",
   "metadata": {},
   "outputs": [],
   "source": [
    "# Clustering analysis\n",
    "from sklearn.cluster import KMeans\n",
    "sse = []\n",
    "target = df1['Temperature'].to_numpy().reshape(-1,1)\n",
    "num_clusters = list(range(1, 10))\n",
    "\n",
    "for k in num_clusters:\n",
    "    km = KMeans(n_clusters=k)\n",
    "    km.fit(target)\n",
    "    sse.append(km.inertia_)\n",
    "\n",
    "fig = go.Figure(data=[\n",
    "    go.Scatter(x = num_clusters, y=sse, mode='lines'),\n",
    "    go.Scatter(x = num_clusters, y=sse, mode='markers')\n",
    "])\n",
    "\n",
    "fig.update_layout(title=\"Evaluation on number of clusters:\",\n",
    "                 xaxis_title = \"Number of Clusters:\",\n",
    "                 yaxis_title = \"Sum of Squared Distance\",\n",
    "                 showlegend=False)\n",
    "fig.show()\n"
   ]
  },
  {
   "cell_type": "code",
   "execution_count": null,
   "id": "41d47b00",
   "metadata": {},
   "outputs": [],
   "source": [
    "# Apply KMeans with 3 clusters\n",
    "km = KMeans(3)\n",
    "km.fit(df1['Temperature'].to_numpy().reshape(-1,1))\n",
    "df1.loc[:,'Temp Labels'] = km.labels_\n",
    "fig = px.scatter(df1, 'Date', 'Temperature', color='Temp Labels')\n",
    "fig.update_layout(title = \"Temperature clusters.\",\n",
    "                xaxis_title=\"Date\", yaxis_title=\"Temperature\")\n",
    "fig.show()\n"
   ]
  },
  {
   "cell_type": "code",
   "execution_count": null,
   "id": "553dd5bd",
   "metadata": {},
   "outputs": [],
   "source": [
    "# Frequency distribution of temperature\n",
    "fig = px.histogram(x=df1['Temperature'], nbins=200, histnorm='')\n",
    "fig.update_layout(title='Frequency chart of temperature readings:',\n",
    "                xaxis_title='Temperature', yaxis_title='Count')\n",
    "fig.show()\n"
   ]
  },
  {
   "cell_type": "markdown",
   "id": "a6cce246",
   "metadata": {},
   "source": [
    "## Yearly and Monthly Temperature Analysis\n",
    "\n",
    "Now let's analyze yearly average temperatures and monthly patterns over time.\n"
   ]
  },
  {
   "cell_type": "code",
   "execution_count": null,
   "id": "7f564cb7",
   "metadata": {},
   "outputs": [],
   "source": [
    "# Yearly average temperature analysis\n",
    "df['Yearly Mean'] = df.iloc[:,1:].mean(axis=1) ## Axis 1 for rows\n",
    "fig = go.Figure(data=[\n",
    "    go.Scatter(name='Yearly Temperatures', x=df['YEAR'], y=df['Yearly Mean']),\n",
    "    go.Scatter(name='Yearly Temperatures', x=df['YEAR'], y=df['Yearly Mean'])\n",
    "])\n",
    "fig.update_layout(title='Yearly Mean Temperature:',\n",
    "                xaxis_title='Time', yaxis_title='Temperature')\n",
    "fig.show()\n"
   ]
  },
  {
   "cell_type": "code",
   "execution_count": null,
   "id": "644d4ca8",
   "metadata": {},
   "outputs": [],
   "source": [
    "# Monthly temperatures through history\n",
    "fig = px.line(df1, 'Year', 'Temperature', facet_col='Month', facet_col_wrap=4)\n",
    "fig.update_layout(title='Monthly temperature throughout history:')\n",
    "fig.show()\n"
   ]
  },
  {
   "cell_type": "markdown",
   "id": "fa3a8fe4",
   "metadata": {},
   "source": [
    "## Seasonal Weather Analysis\n",
    "\n",
    "Let's analyze temperature patterns by seasons to better understand yearly climate cycles.\n"
   ]
  },
  {
   "cell_type": "code",
   "execution_count": null,
   "id": "6b1c036e",
   "metadata": {},
   "outputs": [],
   "source": [
    "# Seasonal Weather Analysis\n",
    "df['Winter'] = df[['DEC', 'JAN', 'FEB']].mean(axis=1)\n",
    "df['Summer'] = df[['MAR', 'APR', 'MAY']].mean(axis=1)\n",
    "df['Monsoon'] = df[['JUN', 'JUL', 'AUG', 'SEP']].mean(axis=1)\n",
    "df['Autumn'] = df[['OCT', 'NOV']].mean(axis=1)\n",
    "seasonal_df = df[['YEAR', 'Winter', 'Summer', 'Monsoon', 'Autumn']]\n",
    "seasonal_df = pd.melt(seasonal_df, id_vars='YEAR', value_vars=['Winter', 'Summer', 'Monsoon', 'Autumn'])\n",
    "seasonal_df.columns=['Year', 'Season', 'Temperature']\n",
    "\n",
    "fig = px.scatter(seasonal_df, 'Year', 'Temperature', facet_col='Season')\n",
    "fig.update_layout(title='Seasonal mean temperatures throughout years:')\n",
    "fig.show()\n"
   ]
  },
  {
   "cell_type": "markdown",
   "id": "39a4085b",
   "metadata": {},
   "source": [
    "## Animation Visualization\n",
    "\n",
    "Let's create an animated visualization to see how temperature patterns change over the years.\n"
   ]
  },
  {
   "cell_type": "code",
   "execution_count": null,
   "id": "b82f854a",
   "metadata": {},
   "outputs": [],
   "source": [
    "# Animation visualization\n",
    "px.scatter(df1, 'Month', 'Temperature', size='Temperature', animation_frame='Year')\n"
   ]
  },
  {
   "cell_type": "markdown",
   "id": "d355eeb2",
   "metadata": {},
   "source": [
    "## Weather Forecasting with Machine Learning\n",
    "\n",
    "Now we'll build a machine learning model to forecast future temperature values. We'll use a Decision Tree Regressor as our model since the data shows non-linear patterns.\n"
   ]
  },
  {
   "cell_type": "code",
   "execution_count": null,
   "id": "d2ba933c",
   "metadata": {},
   "outputs": [],
   "source": [
    "# Import required libraries for machine learning\n",
    "from sklearn.tree import DecisionTreeRegressor\n",
    "from sklearn.model_selection import train_test_split\n",
    "from sklearn.metrics import r2_score\n",
    "\n",
    "# Prepare data for modeling\n",
    "df2 = df1[['Year', 'Month', 'Temperature']].copy()\n",
    "df2 = pd.get_dummies(df2)\n",
    "y = df2[['Temperature']]\n",
    "X = df2.drop(columns='Temperature')\n",
    "\n",
    "# Create and train model\n",
    "dtr = DecisionTreeRegressor()\n",
    "train_x, test_x, train_y, test_y = train_test_split(X,y,test_size=0.2)\n",
    "dtr.fit(train_x, train_y)\n",
    "pred = dtr.predict(test_x)\n",
    "r2_score(test_y, pred)\n"
   ]
  },
  {
   "cell_type": "markdown",
   "id": "373ff6b6",
   "metadata": {},
   "source": [
    "## Forecasting for 2018\n",
    "\n",
    "Now that we have a trained model with good accuracy, let's use it to forecast temperatures for 2018.\n"
   ]
  },
  {
   "cell_type": "code",
   "execution_count": null,
   "id": "d436f619",
   "metadata": {},
   "outputs": [],
   "source": [
    "# Forecast for 2018\n",
    "next_Year = df1[df1['Year']==2017][['Year', 'Month']]\n",
    "next_Year.Year.replace(2017,2018, inplace=True)\n",
    "next_Year= pd.get_dummies(next_Year)\n",
    "temp_2018 = dtr.predict(next_Year)\n",
    "\n",
    "# Format the forecast results\n",
    "temp_2018 = {'Month':df1['Month'].unique(), 'Temperature':temp_2018}\n",
    "temp_2018=pd.DataFrame(temp_2018)\n",
    "temp_2018['Year'] = 2018\n",
    "temp_2018\n"
   ]
  },
  {
   "cell_type": "markdown",
   "id": "93e881ee",
   "metadata": {},
   "source": [
    "## Conclusion\n",
    "\n",
    "In this project, we've successfully analyzed historical temperature data and built a machine learning model to forecast future temperatures. \n",
    "\n",
    "We performed:\n",
    "1. Data preprocessing and exploration\n",
    "2. Visualization of temperature trends over time\n",
    "3. Clustering analysis to identify temperature patterns\n",
    "4. Seasonal weather analysis\n",
    "5. Machine learning model training with a Decision Tree Regressor\n",
    "6. Temperature forecasting for 2018\n",
    "\n",
    "The model achieved a high R² score, indicating good predictive performance. This approach demonstrates how machine learning can be applied to weather forecasting tasks.\n"
   ]
  }
 ],
 "metadata": {},
 "nbformat": 4,
 "nbformat_minor": 5
}
